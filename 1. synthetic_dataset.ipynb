{
 "cells": [
  {
   "cell_type": "markdown",
   "metadata": {},
   "source": [
    "# SYNTHETIC DATASET\n",
    "\n",
    "With this notebook we will be able to create a synthetic dataset that will be used for training, validating and testing our model.\n",
    "\n",
    "The notebook will allow the customization of input parameters that will be reflected in the generated dataset.\n",
    "\n",
    "Output will be saved by default under the 'dataset' folder, conflicting files will be overriden."
   ]
  },
  {
   "cell_type": "markdown",
   "metadata": {},
   "source": [
    "## Desired Output\n",
    "\n",
    "Following the work done by 'benedekrozemberczki' which can be found in the [following repository](https://github.com/benedekrozemberczki/SimGNN), we decided to adopt the same JSON structure when saving our dataset points (examples). Thus we create an helper class which will be dumped to a JSON file at time.\n",
    "\n",
    "NOTE: We are not including any 'label' properties because we decided to work with unlabeled nodes only."
   ]
  },
  {
   "cell_type": "code",
   "execution_count": 1,
   "metadata": {},
   "outputs": [],
   "source": [
    "from dataclasses import dataclass\n",
    "from typing import List\n",
    "\n",
    "@dataclass\n",
    "class DatasetPoint:\n",
    "    graph_1: List[List[int]] # List of edges which represents a graph, e.g: [[0, 8], [0, 5], [0, 2]...] \n",
    "    graph_2: List[List[int]] # List of edges which represents a graph, e.g: [[1, 3], [1, 5], [2, 4]...] \n",
    "    ged: int                 # The precise graph edit distance between graph_1 and graph_2, eg: 13"
   ]
  },
  {
   "cell_type": "markdown",
   "metadata": {},
   "source": [
    "## Graph Manipulation\n",
    "\n",
    "All the part related to manipulating graphs will be handled by [NetworkX](https://networkx.org/) library."
   ]
  },
  {
   "cell_type": "code",
   "execution_count": 2,
   "metadata": {},
   "outputs": [],
   "source": [
    "import networkx as nx"
   ]
  },
  {
   "cell_type": "markdown",
   "metadata": {},
   "source": [
    "## WIP"
   ]
  },
  {
   "cell_type": "code",
   "execution_count": null,
   "metadata": {},
   "outputs": [],
   "source": []
  }
 ],
 "metadata": {
  "kernelspec": {
   "display_name": ".venv",
   "language": "python",
   "name": "python3"
  },
  "language_info": {
   "codemirror_mode": {
    "name": "ipython",
    "version": 3
   },
   "file_extension": ".py",
   "mimetype": "text/x-python",
   "name": "python",
   "nbconvert_exporter": "python",
   "pygments_lexer": "ipython3",
   "version": "3.10.0"
  }
 },
 "nbformat": 4,
 "nbformat_minor": 2
}
