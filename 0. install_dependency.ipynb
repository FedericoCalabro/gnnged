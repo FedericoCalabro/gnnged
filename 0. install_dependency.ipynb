{
 "cells": [
  {
   "cell_type": "markdown",
   "metadata": {},
   "source": [
    "# DEPENDENCIES"
   ]
  },
  {
   "cell_type": "markdown",
   "metadata": {},
   "source": [
    "## GPU"
   ]
  },
  {
   "cell_type": "code",
   "execution_count": null,
   "metadata": {},
   "outputs": [],
   "source": [
    "#Python 3.10.0\n",
    "\n",
    "!python -m pip install --upgrade pip\n",
    "\n",
    "!pip uninstall spacy tensorflow rmm-cu12 ibis-framework cudf-cu12 astropy thinc pydantic dgl fastai networkx matplotlib scipy pandas chex flax optax dopamine-rl google-colab tqdm numpy bigframes texttable torch torchvision torchaudio torchtext torch-scatter torch-sparse torch-geometric torch-spline torch-cluster  --y\n",
    "\n",
    "!pip install networkx==3.3 scipy==1.14.0 pandas==2.2.2 tqdm==4.66.4 numpy==2.0.0 texttable==1.6.2\n",
    "\n",
    "!pip install torch==2.3.0 torchvision==0.18.0 --index-url https://download.pytorch.org/whl/cu121\n",
    "\n",
    "!pip install torch-scatter==2.1.2 torch-sparse==0.6.18 torch-cluster==1.6.3 torch-spline-conv==1.2.2 -f https://pytorch-geometric.com/whl/torch-2.3.0%2Bcu121.html --use-deprecated=legacy-resolver\n",
    "\n",
    "!pip install torch-geometric==2.5.2\n",
    "\n",
    "!pip install https://data.dgl.ai/wheels/torch-2.3/cu121/dgl-2.2.1%2Bcu121-cp310-cp310-manylinux1_x86_64.whl\n",
    "\n",
    "!pip install pydantic matplotlib"
   ]
  },
  {
   "cell_type": "markdown",
   "metadata": {},
   "source": [
    "## CPU"
   ]
  },
  {
   "cell_type": "code",
   "execution_count": null,
   "metadata": {},
   "outputs": [],
   "source": [
    "#Python 3.10.0\n",
    "\n",
    "!python -m pip install --upgrade pip\n",
    "\n",
    "!pip uninstall spacy tensorflow rmm-cu12 ibis-framework cudf-cu12 astropy thinc pydantic dgl fastai networkx matplotlib scipy pandas chex flax optax dopamine-rl google-colab tqdm numpy bigframes texttable torch torchvision torchaudio torchtext torch-scatter torch-sparse torch-geometric torch-spline torch-cluster  --y\n",
    "\n",
    "!pip install networkx==3.3 scipy==1.14.0 pandas==2.2.2 tqdm==4.66.4 numpy==2.0.0 texttable==1.6.2\n",
    "\n",
    "!pip install torch==2.3.0 torchvision==0.18.0 --index-url https://download.pytorch.org/whl/cpu\n",
    "\n",
    "!pip install torch-scatter==2.1.2 torch-sparse==0.6.18 torch-cluster==1.6.3 torch-spline-conv==1.2.2 -f https://pytorch-geometric.com/whl/torch-2.3.0%2Bcpu.html --use-deprecated=legacy-resolver\n",
    "\n",
    "!pip install torch-geometric==2.5.2\n",
    "\n",
    "!pip install https://data.dgl.ai/wheels/dgl-2.2.1-cp310-cp310-win_amd64.whl\n",
    "# !pip install https://data.dgl.ai/wheels/torch-2.3/dgl-2.2.1-cp310-cp310-manylinux1_x86_64.whl\n",
    "\n",
    "!pip install pydantic matplotlib"
   ]
  }
 ],
 "metadata": {
  "kernelspec": {
   "display_name": "Python 3",
   "language": "python",
   "name": "python3"
  },
  "language_info": {
   "codemirror_mode": {
    "name": "ipython",
    "version": 3
   },
   "file_extension": ".py",
   "mimetype": "text/x-python",
   "name": "python",
   "nbconvert_exporter": "python",
   "pygments_lexer": "ipython3",
   "version": "3.10.0"
  }
 },
 "nbformat": 4,
 "nbformat_minor": 2
}
